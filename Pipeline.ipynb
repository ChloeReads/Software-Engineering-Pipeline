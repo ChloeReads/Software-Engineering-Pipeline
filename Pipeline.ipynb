{
  "cells": [
    {
      "cell_type": "markdown",
      "source": [
        "# Software Engineering Assessment\n",
        "\n",
        "**Problem Statement**\n",
        "\n",
        "Currently have a Power Automate flow that takes data from multiple sources and merges them into one output to be used by finance teams. Flow is slow to run and prone to failure, a Python ETL process to be spun up to replace it."
      ],
      "metadata": {
        "id": "y6ZHXY8Zwrks"
      },
      "id": "y6ZHXY8Zwrks"
    },
    {
      "cell_type": "markdown",
      "source": [
        "## Setup Instructions\n",
        "\n",
        "Run the following code block and upload the following files from the Zip Archive:\n",
        "\n",
        "* PayRates.csv\n",
        "* Staff.csv\n",
        "* Teams.csv\n",
        "* requirements.txt"
      ],
      "metadata": {
        "id": "ZdtRBixdzmDF"
      },
      "id": "ZdtRBixdzmDF"
    },
    {
      "cell_type": "code",
      "execution_count": 1,
      "id": "19c8f194",
      "metadata": {
        "colab": {
          "base_uri": "https://localhost:8080/",
          "height": 180
        },
        "id": "19c8f194",
        "outputId": "cab4e2f1-6b30-43b7-8f91-08d82cd4e6c3"
      },
      "outputs": [
        {
          "output_type": "display_data",
          "data": {
            "text/plain": [
              "<IPython.core.display.HTML object>"
            ],
            "text/html": [
              "\n",
              "     <input type=\"file\" id=\"files-f04bc2ab-b0e2-46f6-a59d-96aa9a9c26fe\" name=\"files[]\" multiple disabled\n",
              "        style=\"border:none\" />\n",
              "     <output id=\"result-f04bc2ab-b0e2-46f6-a59d-96aa9a9c26fe\">\n",
              "      Upload widget is only available when the cell has been executed in the\n",
              "      current browser session. Please rerun this cell to enable.\n",
              "      </output>\n",
              "      <script>// Copyright 2017 Google LLC\n",
              "//\n",
              "// Licensed under the Apache License, Version 2.0 (the \"License\");\n",
              "// you may not use this file except in compliance with the License.\n",
              "// You may obtain a copy of the License at\n",
              "//\n",
              "//      http://www.apache.org/licenses/LICENSE-2.0\n",
              "//\n",
              "// Unless required by applicable law or agreed to in writing, software\n",
              "// distributed under the License is distributed on an \"AS IS\" BASIS,\n",
              "// WITHOUT WARRANTIES OR CONDITIONS OF ANY KIND, either express or implied.\n",
              "// See the License for the specific language governing permissions and\n",
              "// limitations under the License.\n",
              "\n",
              "/**\n",
              " * @fileoverview Helpers for google.colab Python module.\n",
              " */\n",
              "(function(scope) {\n",
              "function span(text, styleAttributes = {}) {\n",
              "  const element = document.createElement('span');\n",
              "  element.textContent = text;\n",
              "  for (const key of Object.keys(styleAttributes)) {\n",
              "    element.style[key] = styleAttributes[key];\n",
              "  }\n",
              "  return element;\n",
              "}\n",
              "\n",
              "// Max number of bytes which will be uploaded at a time.\n",
              "const MAX_PAYLOAD_SIZE = 100 * 1024;\n",
              "\n",
              "function _uploadFiles(inputId, outputId) {\n",
              "  const steps = uploadFilesStep(inputId, outputId);\n",
              "  const outputElement = document.getElementById(outputId);\n",
              "  // Cache steps on the outputElement to make it available for the next call\n",
              "  // to uploadFilesContinue from Python.\n",
              "  outputElement.steps = steps;\n",
              "\n",
              "  return _uploadFilesContinue(outputId);\n",
              "}\n",
              "\n",
              "// This is roughly an async generator (not supported in the browser yet),\n",
              "// where there are multiple asynchronous steps and the Python side is going\n",
              "// to poll for completion of each step.\n",
              "// This uses a Promise to block the python side on completion of each step,\n",
              "// then passes the result of the previous step as the input to the next step.\n",
              "function _uploadFilesContinue(outputId) {\n",
              "  const outputElement = document.getElementById(outputId);\n",
              "  const steps = outputElement.steps;\n",
              "\n",
              "  const next = steps.next(outputElement.lastPromiseValue);\n",
              "  return Promise.resolve(next.value.promise).then((value) => {\n",
              "    // Cache the last promise value to make it available to the next\n",
              "    // step of the generator.\n",
              "    outputElement.lastPromiseValue = value;\n",
              "    return next.value.response;\n",
              "  });\n",
              "}\n",
              "\n",
              "/**\n",
              " * Generator function which is called between each async step of the upload\n",
              " * process.\n",
              " * @param {string} inputId Element ID of the input file picker element.\n",
              " * @param {string} outputId Element ID of the output display.\n",
              " * @return {!Iterable<!Object>} Iterable of next steps.\n",
              " */\n",
              "function* uploadFilesStep(inputId, outputId) {\n",
              "  const inputElement = document.getElementById(inputId);\n",
              "  inputElement.disabled = false;\n",
              "\n",
              "  const outputElement = document.getElementById(outputId);\n",
              "  outputElement.innerHTML = '';\n",
              "\n",
              "  const pickedPromise = new Promise((resolve) => {\n",
              "    inputElement.addEventListener('change', (e) => {\n",
              "      resolve(e.target.files);\n",
              "    });\n",
              "  });\n",
              "\n",
              "  const cancel = document.createElement('button');\n",
              "  inputElement.parentElement.appendChild(cancel);\n",
              "  cancel.textContent = 'Cancel upload';\n",
              "  const cancelPromise = new Promise((resolve) => {\n",
              "    cancel.onclick = () => {\n",
              "      resolve(null);\n",
              "    };\n",
              "  });\n",
              "\n",
              "  // Wait for the user to pick the files.\n",
              "  const files = yield {\n",
              "    promise: Promise.race([pickedPromise, cancelPromise]),\n",
              "    response: {\n",
              "      action: 'starting',\n",
              "    }\n",
              "  };\n",
              "\n",
              "  cancel.remove();\n",
              "\n",
              "  // Disable the input element since further picks are not allowed.\n",
              "  inputElement.disabled = true;\n",
              "\n",
              "  if (!files) {\n",
              "    return {\n",
              "      response: {\n",
              "        action: 'complete',\n",
              "      }\n",
              "    };\n",
              "  }\n",
              "\n",
              "  for (const file of files) {\n",
              "    const li = document.createElement('li');\n",
              "    li.append(span(file.name, {fontWeight: 'bold'}));\n",
              "    li.append(span(\n",
              "        `(${file.type || 'n/a'}) - ${file.size} bytes, ` +\n",
              "        `last modified: ${\n",
              "            file.lastModifiedDate ? file.lastModifiedDate.toLocaleDateString() :\n",
              "                                    'n/a'} - `));\n",
              "    const percent = span('0% done');\n",
              "    li.appendChild(percent);\n",
              "\n",
              "    outputElement.appendChild(li);\n",
              "\n",
              "    const fileDataPromise = new Promise((resolve) => {\n",
              "      const reader = new FileReader();\n",
              "      reader.onload = (e) => {\n",
              "        resolve(e.target.result);\n",
              "      };\n",
              "      reader.readAsArrayBuffer(file);\n",
              "    });\n",
              "    // Wait for the data to be ready.\n",
              "    let fileData = yield {\n",
              "      promise: fileDataPromise,\n",
              "      response: {\n",
              "        action: 'continue',\n",
              "      }\n",
              "    };\n",
              "\n",
              "    // Use a chunked sending to avoid message size limits. See b/62115660.\n",
              "    let position = 0;\n",
              "    do {\n",
              "      const length = Math.min(fileData.byteLength - position, MAX_PAYLOAD_SIZE);\n",
              "      const chunk = new Uint8Array(fileData, position, length);\n",
              "      position += length;\n",
              "\n",
              "      const base64 = btoa(String.fromCharCode.apply(null, chunk));\n",
              "      yield {\n",
              "        response: {\n",
              "          action: 'append',\n",
              "          file: file.name,\n",
              "          data: base64,\n",
              "        },\n",
              "      };\n",
              "\n",
              "      let percentDone = fileData.byteLength === 0 ?\n",
              "          100 :\n",
              "          Math.round((position / fileData.byteLength) * 100);\n",
              "      percent.textContent = `${percentDone}% done`;\n",
              "\n",
              "    } while (position < fileData.byteLength);\n",
              "  }\n",
              "\n",
              "  // All done.\n",
              "  yield {\n",
              "    response: {\n",
              "      action: 'complete',\n",
              "    }\n",
              "  };\n",
              "}\n",
              "\n",
              "scope.google = scope.google || {};\n",
              "scope.google.colab = scope.google.colab || {};\n",
              "scope.google.colab._files = {\n",
              "  _uploadFiles,\n",
              "  _uploadFilesContinue,\n",
              "};\n",
              "})(self);\n",
              "</script> "
            ]
          },
          "metadata": {}
        },
        {
          "output_type": "stream",
          "name": "stdout",
          "text": [
            "Saving PayRates.csv to PayRates.csv\n",
            "Saving requirements.txt to requirements.txt\n",
            "Saving Staff.csv to Staff.csv\n",
            "Saving Teams.csv to Teams.csv\n"
          ]
        }
      ],
      "source": [
        "from google.colab import files\n",
        "uploaded = files.upload()"
      ]
    },
    {
      "cell_type": "code",
      "source": [
        "pip install -r requirements.txt"
      ],
      "metadata": {
        "colab": {
          "base_uri": "https://localhost:8080/"
        },
        "id": "gXSeA06d00hD",
        "outputId": "a5b2890f-1cc0-489b-b365-48ca25173bfc"
      },
      "id": "gXSeA06d00hD",
      "execution_count": 2,
      "outputs": [
        {
          "output_type": "stream",
          "name": "stdout",
          "text": [
            "Requirement already satisfied: pandas in /usr/local/lib/python3.12/dist-packages (from -r requirements.txt (line 1)) (2.2.2)\n",
            "Collecting faker (from -r requirements.txt (line 2))\n",
            "  Downloading faker-37.5.3-py3-none-any.whl.metadata (15 kB)\n",
            "Requirement already satisfied: numpy>=1.26.0 in /usr/local/lib/python3.12/dist-packages (from pandas->-r requirements.txt (line 1)) (2.0.2)\n",
            "Requirement already satisfied: python-dateutil>=2.8.2 in /usr/local/lib/python3.12/dist-packages (from pandas->-r requirements.txt (line 1)) (2.9.0.post0)\n",
            "Requirement already satisfied: pytz>=2020.1 in /usr/local/lib/python3.12/dist-packages (from pandas->-r requirements.txt (line 1)) (2025.2)\n",
            "Requirement already satisfied: tzdata>=2022.7 in /usr/local/lib/python3.12/dist-packages (from pandas->-r requirements.txt (line 1)) (2025.2)\n",
            "Requirement already satisfied: six>=1.5 in /usr/local/lib/python3.12/dist-packages (from python-dateutil>=2.8.2->pandas->-r requirements.txt (line 1)) (1.17.0)\n",
            "Downloading faker-37.5.3-py3-none-any.whl (1.9 MB)\n",
            "\u001b[2K   \u001b[90m━━━━━━━━━━━━━━━━━━━━━━━━━━━━━━━━━━━━━━━━\u001b[0m \u001b[32m1.9/1.9 MB\u001b[0m \u001b[31m13.3 MB/s\u001b[0m eta \u001b[36m0:00:00\u001b[0m\n",
            "\u001b[?25hInstalling collected packages: faker\n",
            "Successfully installed faker-37.5.3\n"
          ]
        }
      ]
    },
    {
      "cell_type": "code",
      "source": [
        "import pandas as pd\n",
        "import unittest"
      ],
      "metadata": {
        "id": "pQGubpQ31E3h"
      },
      "id": "pQGubpQ31E3h",
      "execution_count": 3,
      "outputs": []
    },
    {
      "cell_type": "code",
      "source": [
        "df_staff = pd.read_csv('Staff.csv')\n",
        "df_teams = pd.read_csv('Teams.csv')\n",
        "df_payrates = pd.read_csv('PayRates.csv')\n",
        "\n",
        "print(df_staff.head())\n",
        "print(df_teams.head())\n",
        "print(df_payrates.head())"
      ],
      "metadata": {
        "colab": {
          "base_uri": "https://localhost:8080/"
        },
        "id": "Qk5Y_OzT1J0T",
        "outputId": "b93def83-0532-49f2-c91e-0baf5d16ae7d"
      },
      "id": "Qk5Y_OzT1J0T",
      "execution_count": 4,
      "outputs": [
        {
          "output_type": "stream",
          "name": "stdout",
          "text": [
            "   Unnamed: 0       ID              Full Name    Location  Pay Rate\n",
            "0           0  9327790             Megan West  Manchester        68\n",
            "1           1  2785284  Deborah McDonald-Hall       Leeds        99\n",
            "2           2  4641741   Gary Martin-Crawford     Bristol       124\n",
            "3           3  2838717            Jasmine Fox    Brighton        74\n",
            "4           4   705387      Mr Damian Gregory    Aberdeen        70\n",
            "   Unnamed: 0     ID       Department                    Team\n",
            "0           0  42962    Adminstration    Adminstration Team 1\n",
            "1           1  99703  Human Resources  Human Resources Team 2\n",
            "2           2  86354       Investment       Investment Team 1\n",
            "3           3  93505      Engineering      Engineering Team 1\n",
            "4           4  77026  Human Resources  Human Resources Team 2\n",
            "   Unnamed: 0     ID  Pay Rate\n",
            "0           0  42962     63.69\n",
            "1           1  99703     84.76\n",
            "2           2  86354    134.80\n",
            "3           3  93505    117.14\n",
            "4           4  77026    102.47\n"
          ]
        }
      ]
    },
    {
      "cell_type": "code",
      "source": [],
      "metadata": {
        "id": "t9xfk4p02Mcy"
      },
      "id": "t9xfk4p02Mcy",
      "execution_count": null,
      "outputs": []
    },
    {
      "cell_type": "code",
      "metadata": {
        "colab": {
          "base_uri": "https://localhost:8080/"
        },
        "id": "7a16fda6",
        "outputId": "7a30dbac-28d2-4aea-b25a-a9cfb0e227f3"
      },
      "source": [
        "def add_leading_zeros(df, column_name, total_digits=8):\n",
        "  \"\"\"\n",
        "  Adds leading zeros to a specified column in a DataFrame to reach a total number of digits.\n",
        "\n",
        "  Args:\n",
        "    df: pandas DataFrame.\n",
        "    column_name: Name of the column to modify.\n",
        "    total_digits: The desired total number of digits.\n",
        "\n",
        "  Returns:\n",
        "    DataFrame with the modified column.\n",
        "  \"\"\"\n",
        "  df[column_name] = df[column_name].astype(str).str.zfill(total_digits)\n",
        "  return df\n",
        "\n",
        "df_staff = add_leading_zeros(df_staff, 'ID')\n",
        "print(df_staff['ID'].head())"
      ],
      "id": "7a16fda6",
      "execution_count": 8,
      "outputs": [
        {
          "output_type": "stream",
          "name": "stdout",
          "text": [
            "0    09327790\n",
            "1    02785284\n",
            "2    04641741\n",
            "3    02838717\n",
            "4    00705387\n",
            "Name: ID, dtype: object\n"
          ]
        }
      ]
    },
    {
      "cell_type": "code",
      "metadata": {
        "colab": {
          "base_uri": "https://localhost:8080/"
        },
        "id": "43f5d03b",
        "outputId": "7186e712-3ffb-49f3-c35c-cb9c52db9452"
      },
      "source": [
        "class TestAddLeadingZeros(unittest.TestCase):\n",
        "\n",
        "    def test_add_zeros_to_short_id(self):\n",
        "        df = pd.DataFrame({'ID': [123, 4567, 89]})\n",
        "        df_modified = add_leading_zeros(df, 'ID', total_digits=8)\n",
        "        expected_ids = ['00000123', '00004567', '00000089']\n",
        "        self.assertEqual(list(df_modified['ID']), expected_ids)\n",
        "\n",
        "    def test_id_already_correct_length(self):\n",
        "        df = pd.DataFrame({'ID': [12345678, 98765432]})\n",
        "        df_modified = add_leading_zeros(df, 'ID', total_digits=8)\n",
        "        expected_ids = ['12345678', '98765432']\n",
        "        self.assertEqual(list(df_modified['ID']), expected_ids)\n",
        "\n",
        "    def test_id_longer_than_total_digits(self):\n",
        "        df = pd.DataFrame({'ID': [123456789, 9876543210]})\n",
        "        df_modified = add_leading_zeros(df, 'ID', total_digits=8)\n",
        "        # zfill does not truncate, it only adds zeros\n",
        "        expected_ids = ['123456789', '9876543210']\n",
        "        self.assertEqual(list(df_modified['ID']), expected_ids)\n",
        "\n",
        "    def test_empty_dataframe(self):\n",
        "        df = pd.DataFrame({'ID': []})\n",
        "        df_modified = add_leading_zeros(df, 'ID', total_digits=8)\n",
        "        expected_ids = []\n",
        "        self.assertEqual(list(df_modified['ID']), expected_ids)\n",
        "\n",
        "    def test_column_with_strings(self):\n",
        "        df = pd.DataFrame({'ID': ['abc', 'defg']})\n",
        "        df_modified = add_leading_zeros(df, 'ID', total_digits=8)\n",
        "        expected_ids = ['00000abc', '0000defg']\n",
        "        self.assertEqual(list(df_modified['ID']), expected_ids)\n",
        "\n",
        "if __name__ == '__main__':\n",
        "    unittest.main(argv=['first-arg-is-ignored'], exit=False)"
      ],
      "id": "43f5d03b",
      "execution_count": 9,
      "outputs": [
        {
          "output_type": "stream",
          "name": "stderr",
          "text": [
            ".....\n",
            "----------------------------------------------------------------------\n",
            "Ran 5 tests in 0.011s\n",
            "\n",
            "OK\n"
          ]
        }
      ]
    }
  ],
  "metadata": {
    "language_info": {
      "name": "python"
    },
    "colab": {
      "provenance": []
    },
    "kernelspec": {
      "name": "python3",
      "display_name": "Python 3"
    }
  },
  "nbformat": 4,
  "nbformat_minor": 5
}