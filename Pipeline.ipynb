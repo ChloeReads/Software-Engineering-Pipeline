{
  "cells": [
    {
      "cell_type": "markdown",
      "source": [
        "# Software Engineering Assessment\n",
        "\n",
        "**Problem Statement**\n",
        "\n",
        "Currently have a Power Automate flow that takes data from multiple sources and merges them into one output to be used by finance teams. Flow is slow to run and prone to failure, a Python ETL process to be spun up to replace it."
      ],
      "metadata": {
        "id": "y6ZHXY8Zwrks"
      },
      "id": "y6ZHXY8Zwrks"
    },
    {
      "cell_type": "markdown",
      "source": [
        "## Setup Instructions\n",
        "\n",
        "This code assumes you have only loaded Pipeline.ipynb into Google colab, if you have already uploaded the below files you can skip the next step and move straight to Installign requirements.txt\n",
        "\n",
        "Run the following code block and upload the following files from the Zip Archive:\n",
        "\n",
        "* PayRates.csv\n",
        "* Staff.csv\n",
        "* Teams.csv\n",
        "* requirements.txt"
      ],
      "metadata": {
        "id": "ZdtRBixdzmDF"
      },
      "id": "ZdtRBixdzmDF"
    },
    {
      "cell_type": "code",
      "execution_count": null,
      "id": "19c8f194",
      "metadata": {
        "id": "19c8f194"
      },
      "outputs": [],
      "source": [
        "from google.colab import files\n",
        "uploaded = files.upload()"
      ]
    },
    {
      "cell_type": "markdown",
      "source": [
        "The following code installs the following required libraries:\n",
        "\n",
        "*   Pandas\n",
        "*   Faker\n",
        "*   YData-profiling"
      ],
      "metadata": {
        "id": "OWBeYuOsw_yf"
      },
      "id": "OWBeYuOsw_yf"
    },
    {
      "cell_type": "code",
      "source": [
        "!pip install -r requirements.txt"
      ],
      "metadata": {
        "id": "gXSeA06d00hD"
      },
      "id": "gXSeA06d00hD",
      "execution_count": null,
      "outputs": []
    },
    {
      "cell_type": "code",
      "source": [
        "# Importing installed libraries\n",
        "import pandas as pd\n",
        "import numpy as np\n",
        "from ydata_profiling import ProfileReport\n",
        "\n",
        "# As unittest is built into python it does not need to be installed like previous libraries\n",
        "import unittest"
      ],
      "metadata": {
        "id": "pQGubpQ31E3h"
      },
      "id": "pQGubpQ31E3h",
      "execution_count": null,
      "outputs": []
    },
    {
      "cell_type": "markdown",
      "source": [
        "## Import Data\n",
        "\n",
        "This step reads the three source data files into Pandas dataframes, these files contain synthetic data based on production outputs used for the pipeline used internally within my company."
      ],
      "metadata": {
        "id": "e3p8U_cBkyxb"
      },
      "id": "e3p8U_cBkyxb"
    },
    {
      "cell_type": "code",
      "source": [
        "df_staff = pd.read_csv('Staff.csv')\n",
        "df_teams = pd.read_csv('Teams.csv')\n",
        "df_payrates = pd.read_csv('PayRates.csv')\n",
        "\n",
        "# For troubleshooting\n",
        "print(df_staff.head())\n",
        "print(df_teams.head())\n",
        "print(df_payrates.head())"
      ],
      "metadata": {
        "id": "Qk5Y_OzT1J0T"
      },
      "id": "Qk5Y_OzT1J0T",
      "execution_count": null,
      "outputs": []
    },
    {
      "cell_type": "markdown",
      "source": [
        "## YData Auto EDA\n",
        "\n",
        "This step generates and downloads autoEDA reports for each of the three dataframes"
      ],
      "metadata": {
        "id": "5ErtLvqBlyZx"
      },
      "id": "5ErtLvqBlyZx"
    },
    {
      "cell_type": "code",
      "source": [
        "# Creating the Profile Reports\n",
        "staff_profile = ProfileReport(df_staff, title=\"Staff Profiling Report\")\n",
        "teams_profile = ProfileReport(df_staff, title=\"Teams Profiling Report\")\n",
        "pay_profile = ProfileReport(df_staff, title=\"Pay Profiling Report\")\n",
        "\n",
        "# Saving Profile Reports as html files in the colab space\n",
        "staff_profile.to_file(\"staff_report.html\")\n",
        "teams_profile.to_file(\"teams_report.html\")\n",
        "pay_profile.to_file(\"pay_report.html\")\n",
        "\n",
        "# Downloading the html reports\n",
        "files.download(\"staff_report.html\")\n",
        "files.download(\"teams_report.html\")\n",
        "files.download(\"pay_report.html\")"
      ],
      "metadata": {
        "id": "LfVOWiC86m14"
      },
      "id": "LfVOWiC86m14",
      "execution_count": null,
      "outputs": []
    },
    {
      "cell_type": "markdown",
      "source": [
        "##Data Prep\n",
        "\n",
        "Initial Data Cleansing"
      ],
      "metadata": {
        "id": "eJfY0JbUl6ci"
      },
      "id": "eJfY0JbUl6ci"
    },
    {
      "cell_type": "code",
      "source": [
        "# Dropping duplicate IDs\n",
        "df_staff = df_staff[['ID','Full Name', 'Location']].drop_duplicates(subset=['ID'])\n",
        "\n",
        "#Sorting the table on ID to make the output easier to read\n",
        "df_staff.sort_values(by='ID', inplace=True)\n",
        "\n",
        "# reseting the index to ensure cleaning joining in future steps\n",
        "df_staff.reset_index(drop=True, inplace=True)\n",
        "\n",
        "# For Troubleshooting\n",
        "print(df_staff.head())"
      ],
      "metadata": {
        "id": "voHGWQux93T9"
      },
      "id": "voHGWQux93T9",
      "execution_count": null,
      "outputs": []
    },
    {
      "cell_type": "code",
      "source": [
        "# Repeating above step for teams table\n",
        "df_teams = df_teams[['ID','Department', 'Team']].drop_duplicates(subset=['ID'])\n",
        "df_teams.sort_values(by='ID', inplace=True)\n",
        "df_teams.reset_index(drop=True, inplace=True)\n",
        "print(df_teams.head())"
      ],
      "metadata": {
        "id": "vl6tgKgmBFZp"
      },
      "id": "vl6tgKgmBFZp",
      "execution_count": null,
      "outputs": []
    },
    {
      "cell_type": "code",
      "source": [
        "# Repeating above step for payrates table\n",
        "df_payrates = df_payrates[['ID','Pay Rate']].drop_duplicates(subset=['ID'])\n",
        "df_payrates.sort_values(by='ID', inplace=True)\n",
        "df_payrates.reset_index(drop=True, inplace=True)\n",
        "print(df_payrates.head())"
      ],
      "metadata": {
        "id": "KhhO0E8HBbDm"
      },
      "id": "KhhO0E8HBbDm",
      "execution_count": null,
      "outputs": []
    },
    {
      "cell_type": "markdown",
      "source": [
        "## Data Merging, Final Cleanup And Export\n"
      ],
      "metadata": {
        "id": "n1ZrfN4RmBxO"
      },
      "id": "n1ZrfN4RmBxO"
    },
    {
      "cell_type": "code",
      "source": [
        "# Merging in team data, left joining on ID\n",
        "df_merged = pd.merge(df_staff, df_teams, on='ID', how='left')\n",
        "\n",
        "# Merging in payrate data, left joining on ID\n",
        "df_merged = pd.merge(df_merged, df_payrates, on='ID', how='left')\n",
        "\n",
        "# Output for troubleshooting\n",
        "print(df_merged.head())\n",
        "print(df_merged.info())"
      ],
      "metadata": {
        "id": "bjyLxmTeCQg3"
      },
      "id": "bjyLxmTeCQg3",
      "execution_count": null,
      "outputs": []
    },
    {
      "cell_type": "markdown",
      "source": [
        "### Functions"
      ],
      "metadata": {
        "id": "EXOZSdlV2Zcm"
      },
      "id": "EXOZSdlV2Zcm"
    },
    {
      "cell_type": "code",
      "metadata": {
        "id": "7a16fda6"
      },
      "source": [
        "# Adding leading zeros to ID Column, ensuring it's always 8 digits long\n",
        "\n",
        "\"\"\"\n",
        "Args:\n",
        "    df: pandas DataFrame.\n",
        "    column_name: Name of the column to add zeros to.\n",
        "    total_digits: The total number of digits for that column.\n",
        "\n",
        "  Returns:\n",
        "    DataFrame with the column updated to have leading zeros.\n",
        "\"\"\"\n",
        "\n",
        "def add_leading_zeros(df, column_name, total_digits=8):\n",
        "\n",
        "  df[column_name] = df[column_name].astype(str).str.zfill(total_digits)\n",
        "  return df\n",
        "\n",
        "df_merged = add_leading_zeros(df_merged, 'ID')\n",
        "print(df_merged['ID'].head())"
      ],
      "id": "7a16fda6",
      "execution_count": null,
      "outputs": []
    },
    {
      "cell_type": "code",
      "metadata": {
        "id": "c047fbef"
      },
      "source": [
        "# This will remove common titles like Mr/Mrs/Dr from the Full Name column, this is something that could be resolved during generation of the synthetic data however\n",
        "# I have left the titles in the data to provide a good example of a function that can resolve this type of source data issue.\n",
        "\n",
        "\"\"\"\n",
        "  Args:\n",
        "    df: pandas DataFrame.\n",
        "    column_name: Name of the column to remove titles from.\n",
        "\n",
        "  Returns:\n",
        "    DataFrame with the column updated without titles.\n",
        "\"\"\"\n",
        "\n",
        "def remove_titles(df, column_name):\n",
        "\n",
        "# Ensures the column has data, is in the dataframe and is formated as a string\n",
        "  if df.empty or column_name not in df.columns or not pd.api.types.is_string_dtype(df[column_name]):\n",
        "      return df\n",
        "# List of common titles, these appear to be the only titles included in the source data\n",
        "  titles = ['Mr', 'Mrs', 'Ms', 'Dr', 'mr', 'mrs', 'ms', 'dr']\n",
        "\n",
        "# Removes the titles and any following periods from the data\n",
        "  df[column_name] = df[column_name].str.replace(r'\\b(' + '|'.join(titles) + r')\\b\\.?', '', regex=True).str.strip()\n",
        "  return df\n",
        "\n",
        "df_merged = remove_titles(df_merged, 'Full Name')\n",
        "print(df_merged['Full Name'].head())"
      ],
      "id": "c047fbef",
      "execution_count": null,
      "outputs": []
    },
    {
      "cell_type": "markdown",
      "source": [
        "### Final Output, in the production pipeline this outputs directly into a SharePoint folder for the purposes of this assessment however it outputs and downloads a CSV"
      ],
      "metadata": {
        "id": "i_Ov9r1FA97t"
      },
      "id": "i_Ov9r1FA97t"
    },
    {
      "cell_type": "code",
      "source": [
        "df_merged.to_csv('final_output.csv', index=False)\n",
        "files.download('final_output.csv')"
      ],
      "metadata": {
        "id": "GTbaw9hgkMb8"
      },
      "id": "GTbaw9hgkMb8",
      "execution_count": null,
      "outputs": []
    },
    {
      "cell_type": "markdown",
      "source": [
        "## Unit Testing"
      ],
      "metadata": {
        "id": "X3TGOmYofH-Y"
      },
      "id": "X3TGOmYofH-Y"
    },
    {
      "cell_type": "markdown",
      "source": [
        "### Add Leading Zeros Testing"
      ],
      "metadata": {
        "id": "KLdY5M2YfcUo"
      },
      "id": "KLdY5M2YfcUo"
    },
    {
      "cell_type": "code",
      "source": [
        "class TestAddLeadingZeros(unittest.TestCase):\n",
        "\n",
        "    def test_add_zeros_to_short_id(self):\n",
        "        df = pd.DataFrame({'ID': [123, 4567, 89]})\n",
        "        df_modified = add_leading_zeros(df, 'ID', total_digits=8)\n",
        "        expected_ids = ['00000123', '00004567', '00000089']\n",
        "        self.assertEqual(list(df_modified['ID']), expected_ids)\n",
        "\n",
        "    def test_id_already_correct_length(self):\n",
        "        df = pd.DataFrame({'ID': [12345678, 98765432]})\n",
        "        df_modified = add_leading_zeros(df, 'ID', total_digits=8)\n",
        "        expected_ids = ['12345678', '98765432']\n",
        "        self.assertEqual(list(df_modified['ID']), expected_ids)\n",
        "\n",
        "    def test_id_longer_than_total_digits(self):\n",
        "        df = pd.DataFrame({'ID': [123456789, 9876543210]})\n",
        "        df_modified = add_leading_zeros(df, 'ID', total_digits=8)\n",
        "        # zfill does not truncate, it only adds zeros\n",
        "        expected_ids = ['123456789', '9876543210']\n",
        "        self.assertEqual(list(df_modified['ID']), expected_ids)\n",
        "\n",
        "    def test_empty_dataframe(self):\n",
        "        df = pd.DataFrame({'ID': []})\n",
        "        df_modified = add_leading_zeros(df, 'ID', total_digits=8)\n",
        "        expected_ids = []\n",
        "        self.assertEqual(list(df_modified['ID']), expected_ids)\n",
        "\n",
        "    def test_column_with_strings(self):\n",
        "        df = pd.DataFrame({'ID': ['abc', 'defg']})\n",
        "        df_modified = add_leading_zeros(df, 'ID', total_digits=8)\n",
        "        expected_ids = ['00000abc', '0000defg']\n",
        "        self.assertEqual(list(df_modified['ID']), expected_ids)\n",
        "\n",
        "if __name__ == '__main__':\n",
        "    unittest.main(argv=['first-arg-is-ignored'], exit=False)"
      ],
      "metadata": {
        "id": "uWEnLauxfFKV"
      },
      "id": "uWEnLauxfFKV",
      "execution_count": null,
      "outputs": []
    },
    {
      "cell_type": "markdown",
      "source": [
        "### Remove Titles Testing"
      ],
      "metadata": {
        "id": "mE4Jn3ZCfmhp"
      },
      "id": "mE4Jn3ZCfmhp"
    },
    {
      "cell_type": "code",
      "source": [
        "class TestRemoveTitles(unittest.TestCase):\n",
        "\n",
        "    def test_remove_mr(self):\n",
        "        df = pd.DataFrame({'Full Name': ['Mr. John Smith','mr. John Smith','Mr John Smith','mr John Smith', 'John Smith']})\n",
        "        df_modified = remove_titles(df, 'Full Name')\n",
        "        expected_names = ['John Smith', 'John Smith', 'John Smith', 'John Smith', 'John Smith']\n",
        "        self.assertEqual(list(df_modified['Full Name']), expected_names)\n",
        "\n",
        "    def test_remove_mrs(self):\n",
        "        df = pd.DataFrame({'Full Name': ['Mrs. Jane Doe','Mrs Jane Doe','mrs. Jane Doe','mrs Jane Doe', 'Jane Doe']})\n",
        "        df_modified = remove_titles(df, 'Full Name')\n",
        "        expected_names = ['Jane Doe', 'Jane Doe', 'Jane Doe', 'Jane Doe', 'Jane Doe']\n",
        "        self.assertEqual(list(df_modified['Full Name']), expected_names)\n",
        "\n",
        "    def test_remove_ms(self):\n",
        "        df = pd.DataFrame({'Full Name': ['Ms. Fonda Lee', 'Ms Fonda Lee','ms. Fonda Lee','ms Fonda Lee','Fonda Lee']})\n",
        "        df_modified = remove_titles(df, 'Full Name')\n",
        "        expected_names = ['Fonda Lee','Fonda Lee','Fonda Lee','Fonda Lee','Fonda Lee']\n",
        "        self.assertEqual(list(df_modified['Full Name']), expected_names)\n",
        "\n",
        "    def test_remove_dr(self):\n",
        "        df = pd.DataFrame({'Full Name': ['Dr. Gregory House','Dr Gregory House','dr. Gregory House','dr Gregory House','Gregory House']})\n",
        "        df_modified = remove_titles(df, 'Full Name')\n",
        "        expected_names = ['Gregory House','Gregory House','Gregory House','Gregory House','Gregory House']\n",
        "        self.assertEqual(list(df_modified['Full Name']), expected_names)\n",
        "\n",
        "    def test_multiple_titles_not_present(self):\n",
        "        df = pd.DataFrame({'Full Name': ['John Smith', 'Jane Doe']})\n",
        "        df_modified = remove_titles(df, 'Full Name')\n",
        "        expected_names = ['John Smith', 'Jane Doe']\n",
        "        self.assertEqual(list(df_modified['Full Name']), expected_names)\n",
        "\n",
        "    def test_empty_dataframe(self):\n",
        "        df = pd.DataFrame({'Full Name': []})\n",
        "        df_modified = remove_titles(df, 'Full Name')\n",
        "        expected_names = []\n",
        "        self.assertEqual(list(df_modified['Full Name']), expected_names)\n",
        "\n",
        "    def test_names_with_dots_not_titles(self):\n",
        "        df = pd.DataFrame({'Full Name': ['J.R.R. Tolkien', 'G.R.R. Martin']})\n",
        "        df_modified = remove_titles(df, 'Full Name')\n",
        "        expected_names = ['J.R.R. Tolkien', 'G.R.R. Martin']\n",
        "        self.assertEqual(list(df_modified['Full Name']), expected_names)\n",
        "\n",
        "if __name__ == '__main__':\n",
        "    unittest.main(argv=['first-arg-is-ignored'], exit=False)"
      ],
      "metadata": {
        "id": "jw8PQT7MIt4k"
      },
      "id": "jw8PQT7MIt4k",
      "execution_count": null,
      "outputs": []
    }
  ],
  "metadata": {
    "language_info": {
      "name": "python"
    },
    "colab": {
      "provenance": [],
      "toc_visible": true
    },
    "kernelspec": {
      "name": "python3",
      "display_name": "Python 3"
    }
  },
  "nbformat": 4,
  "nbformat_minor": 5
}